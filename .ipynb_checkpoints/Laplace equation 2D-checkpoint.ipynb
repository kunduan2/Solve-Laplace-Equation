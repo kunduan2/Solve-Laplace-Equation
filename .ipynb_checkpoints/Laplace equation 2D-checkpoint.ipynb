{
 "cells": [
  {
   "cell_type": "code",
   "execution_count": 2,
   "id": "d37d2c44",
   "metadata": {
    "scrolled": true
   },
   "outputs": [
    {
     "data": {
      "text/html": [
       "\n",
       "        <iframe\n",
       "            width=\"800\"\n",
       "            height=\"600\"\n",
       "            src=\"theory.pdf\"\n",
       "            frameborder=\"0\"\n",
       "            allowfullscreen\n",
       "            \n",
       "        ></iframe>\n",
       "        "
      ],
      "text/plain": [
       "<IPython.lib.display.IFrame at 0x76223b468310>"
      ]
     },
     "metadata": {},
     "output_type": "display_data"
    }
   ],
   "source": [
    "from IPython.display import display, IFrame\n",
    "\n",
    "# Replace 'yourfile.pdf' with the path to your PDF file\n",
    "file_path = 'theory.pdf'\n",
    "\n",
    "# Display the PDF\n",
    "display(IFrame(file_path, width=800, height=600))"
   ]
  },
  {
   "cell_type": "code",
   "execution_count": 3,
   "id": "eb023295-3a92-4ec5-be8f-83a70cb2f600",
   "metadata": {},
   "outputs": [],
   "source": [
    "import numpy as np\n",
    "import matplotlib.pyplot as plt\n",
    "import seaborn as sns"
   ]
  },
  {
   "cell_type": "code",
   "execution_count": 4,
   "id": "9c90fcde",
   "metadata": {},
   "outputs": [
    {
     "name": "stdout",
     "output_type": "stream",
     "text": [
      "Converged in 1440 iterations.\n"
     ]
    },
    {
     "data": {
      "image/png": "[encoded data removed]",
      "text/plain": [
       "<Figure size 432x288 with 2 Axes>"
      ]
     },
     "metadata": {},
     "output_type": "display_data"
    }
   ],
   "source": [
    "\n",
    "# Parameters\n",
    "Lx, Ly = 1.0, 1.0   # Length of the domain in x and y\n",
    "Nx, Ny = 20, 50     # Number of grid points in x and y\n",
    "dx, dy = Lx / (Nx - 1), Ly / (Ny - 1)  # Grid spacing\n",
    "\n",
    "# Grid \n",
    "\"\"\"\n",
    "X: Ny num of x-vec stacked along y and \n",
    "Y: Nx num of y-vec stacked along y \n",
    "No of square-grids (as del_x=del_y) (Nx-1) times (Ny-1)\n",
    "\"\"\"\n",
    "x = np.linspace(0, Lx, Nx) # makes Nx grid points along x and as a consequence Nx-1 gaps\n",
    "y = np.linspace(0, Ly, Ny)\n",
    "X, Y = np.meshgrid(x, y) \n",
    "\n",
    "# Boundary conditions\n",
    "\"\"\" Note: \n",
    "Ny:row number, and \n",
    "Nx: column number matching xy-ccordinate\n",
    "\"\"\"\n",
    "phi = np.zeros((Ny, Nx))   \n",
    "phi[:, 0] = 1    # phi at x = 0\n",
    "phi[:, -1] = 0   # phi at x = Lx\n",
    "phi[0, :] = 0    # phi at y = 0\n",
    "phi[-1, :] = 0   # phi at y = Ly\n",
    "\n",
    "# Function to perform the Jacobi iteration. Note all the boundary points needs to be excluded as we are fixing the \n",
    "def jacobi(phi, tol=1e-6, max_iterations=10000):\n",
    "    for iteration in range(max_iterations):\n",
    "        phi_new = phi.copy()\n",
    "        for i in range(1, Ny-1):\n",
    "            for j in range(1, Nx-1):\n",
    "                phi_new[i, j] = 0.25 * (phi[i+1, j] + phi[i-1, j] + phi[i, j+1] + phi[i, j-1])\n",
    "        \n",
    "        # Check for convergence\n",
    "        if np.linalg.norm(phi_new - phi) < tol:\n",
    "            print(f\"Converged in {iteration} iterations.\")\n",
    "            break\n",
    "        \n",
    "        phi = phi_new\n",
    "    \n",
    "    return phi\n",
    "\n",
    "# Solve the Laplace equation\n",
    "phi = jacobi(phi)\n",
    "\n",
    "# Plot the solution\n",
    "sns.set() # set the style of seaborn\n",
    "plt.contourf(X, Y, phi, 20, cmap='viridis')\n",
    "plt.colorbar(label='Potential')\n",
    "plt.xlabel('x')\n",
    "plt.ylabel('y')\n",
    "plt.title('Solution of the 2D Laplace Equation')\n",
    "plt.show()\n"
   ]
  },
  {
   "cell_type": "code",
   "execution_count": 6,
   "id": "bf0ed758",
   "metadata": {},
   "outputs": [
    {
     "data": {
      "text/plain": [
       "True"
      ]
     },
     "execution_count": 6,
     "metadata": {},
     "output_type": "execute_result"
    }
   ],
   "source": [
    "# its good to check if the dimensions match.\n",
    "X.shape== Y.shape== phi.shape"
   ]
  }
 ],
 "metadata": {
  "kernelspec": {
   "display_name": "Python 3 (ipykernel)",
   "language": "python",
   "name": "python3"
  },
  "language_info": {
   "codemirror_mode": {
    "name": "ipython",
    "version": 3
   },
   "file_extension": ".py",
   "mimetype": "text/x-python",
   "name": "python",
   "nbconvert_exporter": "python",
   "pygments_lexer": "ipython3",
   "version": "3.8.8"
  }
 },
 "nbformat": 4,
 "nbformat_minor": 5
}
